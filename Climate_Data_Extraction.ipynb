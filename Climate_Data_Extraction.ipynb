{
  "nbformat": 4,
  "nbformat_minor": 0,
  "metadata": {
    "colab": {
      "provenance": [],
      "collapsed_sections": [],
      "mount_file_id": "1OTfGKY6OTApLxOXEFtEZ1FYmP3oM3e4V",
      "authorship_tag": "ABX9TyOGjL7wsH8OVDtC8ZJsDsHi",
      "include_colab_link": true
    },
    "kernelspec": {
      "name": "python3",
      "display_name": "Python 3"
    },
    "language_info": {
      "name": "python"
    }
  },
  "cells": [
    {
      "cell_type": "markdown",
      "metadata": {
        "id": "view-in-github",
        "colab_type": "text"
      },
      "source": [
        "<a href=\"https://colab.research.google.com/github/alfredofosu/python.projects/blob/main/Climate_Data_Extraction.ipynb\" target=\"_parent\"><img src=\"https://colab.research.google.com/assets/colab-badge.svg\" alt=\"Open In Colab\"/></a>"
      ]
    },
    {
      "cell_type": "markdown",
      "source": [
        "## Extracting Historical Climate Data from Environment and Cimate Change Canada (ECCC)\n",
        "The ECCC allows you to extract historical climate data in a form of CSV or XML files; however, their portal allows for just a day's search so with their bulk extracting URL I decided to build a python script to extract bulk data."
      ],
      "metadata": {
        "id": "I788aBMAFsDv"
      }
    },
    {
      "cell_type": "code",
      "execution_count": 2,
      "metadata": {
        "id": "b3YG5gsYvVeJ"
      },
      "outputs": [],
      "source": [
        "import requests\n",
        "import pandas as pd\n",
        "from pathlib import Path\n",
        "\n",
        "# Since I have more than three args to insert into the URL, build a class object\n",
        "# seem to be an efficient way of organizing the syntax of this script.\n",
        "\n",
        "class ClimateDataGetter(): # <- the class object\n",
        "\n",
        "  timeframe = 1 # can only be set to 1, 2 or 3 for hourly, daily and monthly intervals respectively\n",
        "\n",
        "  def __init__(self, url:str, format:str, stationID:int, from_year:int, to_year:int, from_month:int, to_month:int, \n",
        "               timeframe={\"hourly\":1,\"daily\":2,\"monthly\":3}):\n",
        "    # Instance variables\n",
        "    self.url = url\n",
        "    self.format = format\n",
        "    self.stationID = stationID\n",
        "    self.from_year = from_year\n",
        "    self.to_year = to_year\n",
        "    self.from_month = from_month\n",
        "    self.to_month = to_month\n",
        "    #self.timeframe = timeframe #{1=hourly, 2=daily, 3=monthly}\n",
        "\n",
        "  def download_csv_files(self):\n",
        "    # iterate through each year from Jan to Dec and retrieve all corresponding data\n",
        "    all_csv = []\n",
        "    for year in range(self.from_year,self.to_year + 1):\n",
        "      for month in range (self.from_month,self.to_month + 1):\n",
        "        response_csv = pd.read_csv(f\"{self.url}?format={self.format}&stationID={self.stationID}&Year={year}&Month={month}&timeframe={self.timeframe}&submit=Download+Data\")\n",
        "        all_csv.append(response_csv) # each time an CSV is extracted its is saved to a list\n",
        "    data = pd.concat(all_csv) # this combines all the CSVs into one \n",
        "\n",
        "    # save the extraced files to a designated path/folder.\n",
        "    filepath = Path(f'/content/drive/MyDrive/data/{self.stationID}_{self.from_year}_{self.to_year}_{[x for x,y in {\"hourly\":1,\"daily\":2,\"monthly\":3}.items() if self.timeframe == y][0]}.{self.format}')\n",
        "    filepath.parent.mkdir(parents=True, exist_ok=True)\n",
        "    data.to_csv(filepath, index=False)\n",
        "\n",
        "    # save the pandas information to a designated path/folder.\n",
        "    with open(f'/content/drive/MyDrive/data/{self.stationID}_{self.from_year}_{self.to_year}_{[x for x,y in {\"hourly\":1,\"daily\":2,\"monthly\":3}.items() if self.timeframe == y][0]}.txt', 'w') as file_out:\n",
        "      data.info(verbose=True, buf=file_out)\n",
        "\n",
        "    # print to screen\n",
        "    print(\"Extracted {} {} climate data from station {} from {} to {}.\" .format(len(data), \n",
        "                                                                  [x for x,y in {\"hourly\":1,\"daily\":2,\"monthly\":3}.items() if self.timeframe == y][0],\n",
        "                                                                  self.stationID, self.from_year, self.to_year))\n",
        "  @classmethod\n",
        "  # the timeframe can be set to 1, 2 or 3  \n",
        "  def set_timeframe(cls, timeframe):\n",
        "    cls.timeframe = timeframe\n"
      ]
    },
    {
      "cell_type": "markdown",
      "source": [
        "\n",
        "List of weather stations near the lake of the woods and rainy river\n",
        "\n",
        "1. FORT FRANCES RCS ONTARIO Weather StationID 46507 (Hourly from 2007)\n",
        "2. MINE CENTRE SOUTHWEST ONTARIO Weather StationID 44343 (Daily from 2005)\n",
        "3. ATIKOKAN (AUT) ONTARIO Weather StationID 10220 (Hourly from 1994)\n",
        "\n",
        "\n"
      ],
      "metadata": {
        "id": "1lqbuAboI0fZ"
      }
    },
    {
      "cell_type": "code",
      "source": [
        "# https://climate.weather.gc.ca/climate_data/bulk_data_e.html?format=csv&stationID=46507&Year=2022&Month=12&timeframe=1&submit=Download+Data\n",
        "\n",
        "def main():\n",
        "\n",
        "  CDG = ClimateDataGetter(\"https://climate.weather.gc.ca/climate_data/bulk_data_e.html\",\n",
        "                          \"csv\", 10220, 1994, 2021, 1, 12) # an instance of the class object\n",
        "  CDG.set_timeframe(1)\n",
        "  CDG.download_csv_files()\n",
        "  # ClimateDataGetter.download_csv_files(CDG) # same as in line 7\n",
        "\n",
        "if __name__==\"__main__\":\n",
        "  main()"
      ],
      "metadata": {
        "colab": {
          "base_uri": "https://localhost:8080/"
        },
        "id": "psKHohSvOcOt",
        "outputId": "072fbc91-2584-4170-be7c-11007d4508de"
      },
      "execution_count": 4,
      "outputs": [
        {
          "output_type": "stream",
          "name": "stdout",
          "text": [
            "Extracted 245448 hourly climate data from station 10220 from 1994 to 2021.\n"
          ]
        }
      ]
    },
    {
      "cell_type": "code",
      "source": [
        "df = pd.read_csv('/content/drive/MyDrive/data/10220_1994_2021_hourly.csv')\n",
        "df.info()"
      ],
      "metadata": {
        "colab": {
          "base_uri": "https://localhost:8080/"
        },
        "id": "ggmp_az5Vf1L",
        "outputId": "5130c433-5c85-42c3-c2d5-a230130827af"
      },
      "execution_count": 3,
      "outputs": [
        {
          "output_type": "stream",
          "name": "stderr",
          "text": [
            "/usr/local/lib/python3.7/dist-packages/IPython/core/interactiveshell.py:3326: DtypeWarning: Columns (10,12,14,16,18,20,22,26,27,29) have mixed types.Specify dtype option on import or set low_memory=False.\n",
            "  exec(code_obj, self.user_global_ns, self.user_ns)\n"
          ]
        },
        {
          "output_type": "stream",
          "name": "stdout",
          "text": [
            "<class 'pandas.core.frame.DataFrame'>\n",
            "RangeIndex: 245448 entries, 0 to 245447\n",
            "Data columns (total 30 columns):\n",
            " #   Column               Non-Null Count   Dtype  \n",
            "---  ------               --------------   -----  \n",
            " 0   Longitude (x)        245448 non-null  float64\n",
            " 1   Latitude (y)         245448 non-null  float64\n",
            " 2   Station Name         245448 non-null  object \n",
            " 3   Climate ID           245448 non-null  object \n",
            " 4   Date/Time (LST)      245448 non-null  object \n",
            " 5   Year                 245448 non-null  int64  \n",
            " 6   Month                245448 non-null  int64  \n",
            " 7   Day                  245448 non-null  int64  \n",
            " 8   Time (LST)           245448 non-null  object \n",
            " 9   Temp (°C)            238354 non-null  float64\n",
            " 10  Temp Flag            584 non-null     object \n",
            " 11  Dew Point Temp (°C)  235233 non-null  float64\n",
            " 12  Dew Point Temp Flag  3852 non-null    object \n",
            " 13  Rel Hum (%)          235233 non-null  float64\n",
            " 14  Rel Hum Flag         3855 non-null    object \n",
            " 15  Wind Dir (10s deg)   208793 non-null  float64\n",
            " 16  Wind Dir Flag        2158 non-null    object \n",
            " 17  Wind Spd (km/h)      237726 non-null  float64\n",
            " 18  Wind Spd Flag        1358 non-null    object \n",
            " 19  Visibility (km)      1 non-null       float64\n",
            " 20  Visibility Flag      83991 non-null   object \n",
            " 21  Stn Press (kPa)      231560 non-null  float64\n",
            " 22  Stn Press Flag       7520 non-null    object \n",
            " 23  Hmdx                 17511 non-null   float64\n",
            " 24  Hmdx Flag            0 non-null       float64\n",
            " 25  Wind Chill           80912 non-null   float64\n",
            " 26  Wind Chill Flag      2 non-null       object \n",
            " 27  Weather              2 non-null       object \n",
            " 28  Precip. Amount (mm)  69914 non-null   float64\n",
            " 29  Precip. Amount Flag  196 non-null     object \n",
            "dtypes: float64(13), int64(3), object(14)\n",
            "memory usage: 56.2+ MB\n"
          ]
        }
      ]
    }
  ]
}